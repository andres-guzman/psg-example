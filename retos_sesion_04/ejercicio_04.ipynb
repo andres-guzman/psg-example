{
 "cells": [
  {
   "cell_type": "markdown",
   "metadata": {},
   "source": [
    "### Sesión 04\n",
    "### Ejercicio 04"
   ]
  },
  {
   "cell_type": "markdown",
   "metadata": {},
   "source": [
    "# Juego: Ajedréz"
   ]
  },
  {
   "cell_type": "markdown",
   "metadata": {},
   "source": [
    "## Reglas:\n",
    "\n",
    "1. El rey solo puede avanzar un cuadro\n",
    "2. La torre se mueve solo en una linea horizontal o vertical\n",
    "3. El alfil se mueve diagonalmente\n",
    "4. La reyna se mueve como la torre o el alfil\n",
    "5. El caballo salta formando una L\n",
    "6. El peón se mueve solo un cuado hacia adelante"
   ]
  },
  {
   "cell_type": "code",
   "execution_count": null,
   "metadata": {},
   "outputs": [],
   "source": [
    "print(\"* * * * \")\n",
    "print(\" * * * *\")\n",
    "print(\"* * * * \")\n",
    "print(\" * * * *\")\n",
    "print(\"* * * * \")\n",
    "print(\" * * * *\")\n",
    "print(\"* * * * \")\n",
    "print(\" * * * *\")"
   ]
  },
  {
   "cell_type": "code",
   "execution_count": null,
   "metadata": {},
   "outputs": [],
   "source": [
    "print('♜', '♞', '♝', '♛',\n",
    "      '♚', '♟', '♖', '♘',\n",
    "      '♗', '♕', '♔', '♙',)"
   ]
  }
 ],
 "metadata": {
  "kernelspec": {
   "display_name": "Python 3",
   "language": "python",
   "name": "python3"
  },
  "language_info": {
   "name": "python",
   "version": "3.12.3"
  }
 },
 "nbformat": 4,
 "nbformat_minor": 2
}
