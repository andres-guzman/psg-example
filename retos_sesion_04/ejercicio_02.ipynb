{
 "cells": [
  {
   "cell_type": "code",
   "execution_count": null,
   "metadata": {},
   "outputs": [],
   "source": [
    "\"\"\"\n",
    "Sesión 04\n",
    "Ejercicio 02\n",
    "\n",
    "Crea un archivo \"ejercicio_02.ipynb\", añade un texto markdown con la descripción \n",
    "del ejercicio \"2\" y crea una imagen utilizando símbolos y prints\n",
    "\"\"\""
   ]
  },
  {
   "cell_type": "code",
   "execution_count": null,
   "metadata": {},
   "outputs": [],
   "source": [
    "print(\"(()(()\")\n",
    "print(\"(=*_*)/\\\")\")\n",
    "print(\"C(,,)(,,)\")"
   ]
  }
 ],
 "metadata": {
  "language_info": {
   "name": "python"
  }
 },
 "nbformat": 4,
 "nbformat_minor": 2
}
